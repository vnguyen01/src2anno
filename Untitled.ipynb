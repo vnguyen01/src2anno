{
 "cells": [
  {
   "cell_type": "code",
   "execution_count": 2,
   "metadata": {
    "collapsed": false
   },
   "outputs": [],
   "source": [
    "import matplotlib.pyplot as plt\n",
    "%matplotlib inline\n",
    "import numpy as np"
   ]
  },
  {
   "cell_type": "code",
   "execution_count": 24,
   "metadata": {
    "collapsed": true
   },
   "outputs": [],
   "source": [
    "raw2 = [#182.65335435619,25.958289667474,\n",
    "  19.069328101568,\n",
    "  13.235458352133,\n",
    "  9.3595072466567,\n",
    "  7.3498279867267,\n",
    "  6.4264139365408,\n",
    "  5.7627429671839,\n",
    "  5.1684023548756,\n",
    "  4.527457575716,\n",
    "  4.3344882959283,\n",
    "  4.2813313297139,\n",
    "  4.282298811375,\n",
    "  4.272834199003,\n",
    "  4.2700529441917,\n",
    "4.2700529441917,\n",
    "4.2700529441917]"
   ]
  },
  {
   "cell_type": "code",
   "execution_count": 25,
   "metadata": {
    "collapsed": false
   },
   "outputs": [],
   "source": [
    "raw1 = [36.847039473327,\n",
    "   16.465806982395,\n",
    "   10.460238016548,\n",
    "   8.2677802554373,\n",
    "   6.49908502049,\n",
    "   6.0519496964588,\n",
    "   5.4640765405931,\n",
    "   5.0792535236113,\n",
    " 5.0104844807583,\n",
    "   4.4826016133683,\n",
    "   4.3183802582552,\n",
    "   4.2763874811346,\n",
    "   4.2848993818703,\n",
    " 4.2830536104781,\n",
    " 4.2833078874513]\n",
    "   #4.2800921450488,\n",
    "   #4.2789757364494]"
   ]
  },
  {
   "cell_type": "code",
   "execution_count": 30,
   "metadata": {
    "collapsed": true
   },
   "outputs": [],
   "source": [
    "raw3 = [#156.51192098683,\n",
    "  30.747047434392,\n",
    "  15.783146376168,\n",
    "  12.254862071559,\n",
    "  8.0299752517116,\n",
    "  6.835742001524,\n",
    "  5.9987357258416,\n",
    "  5.4404647228293,\n",
    "  5.4262994729439,\n",
    "  4.6508127780262,\n",
    "  4.4736265619513,\n",
    "  4.4507149646793,\n",
    "  4.4391532496672,\n",
    "  4.4385452130803,\n",
    "  4.438742084642,\n",
    "  4.4386579092628]#,\n",
    "  #4.4384371240332]"
   ]
  },
  {
   "cell_type": "code",
   "execution_count": 31,
   "metadata": {
    "collapsed": false
   },
   "outputs": [
    {
     "data": {
      "text/plain": [
       "15"
      ]
     },
     "execution_count": 31,
     "metadata": {},
     "output_type": "execute_result"
    }
   ],
   "source": [
    "len(raw2)"
   ]
  },
  {
   "cell_type": "code",
   "execution_count": 32,
   "metadata": {
    "collapsed": false
   },
   "outputs": [
    {
     "data": {
      "text/plain": [
       "15"
      ]
     },
     "execution_count": 32,
     "metadata": {},
     "output_type": "execute_result"
    }
   ],
   "source": [
    "len(raw1)"
   ]
  },
  {
   "cell_type": "code",
   "execution_count": 33,
   "metadata": {
    "collapsed": false
   },
   "outputs": [
    {
     "data": {
      "text/plain": [
       "15"
      ]
     },
     "execution_count": 33,
     "metadata": {},
     "output_type": "execute_result"
    }
   ],
   "source": [
    "len(raw3)"
   ]
  },
  {
   "cell_type": "code",
   "execution_count": 34,
   "metadata": {
    "collapsed": true
   },
   "outputs": [],
   "source": [
    "x = range(len(raw1))"
   ]
  },
  {
   "cell_type": "code",
   "execution_count": 38,
   "metadata": {
    "collapsed": false
   },
   "outputs": [
    {
     "data": {
      "image/png": "[encoded data removed]",
      "text/plain": [
       "<matplotlib.figure.Figure at 0x10f112450>"
      ]
     },
     "metadata": {},
     "output_type": "display_data"
    }
   ],
   "source": [
    "plt.plot(x, raw1, linewidth=2)\n",
    "plt.plot(x, raw2, linewidth=2)\n",
    "plt.plot(x, raw3, linewidth=2)\n",
    "plt.show()"
   ]
  },
  {
   "cell_type": "code",
   "execution_count": null,
   "metadata": {
    "collapsed": true
   },
   "outputs": [],
   "source": []
  }
 ],
 "metadata": {
  "kernelspec": {
   "display_name": "Python 2",
   "language": "python",
   "name": "python2"
  },
  "language_info": {
   "codemirror_mode": {
    "name": "ipython",
    "version": 2
   },
   "file_extension": ".py",
   "mimetype": "text/x-python",
   "name": "python",
   "nbconvert_exporter": "python",
   "pygments_lexer": "ipython2",
   "version": "2.7.11"
  }
 },
 "nbformat": 4,
 "nbformat_minor": 0
}
