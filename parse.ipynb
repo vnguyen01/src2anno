{
 "cells": [
  {
   "cell_type": "code",
   "execution_count": 1,
   "metadata": {
    "collapsed": true
   },
   "outputs": [],
   "source": [
    "import parser\n",
    "import compiler\n",
    "import codeop"
   ]
  },
  {
   "cell_type": "code",
   "execution_count": 9,
   "metadata": {
    "collapsed": false
   },
   "outputs": [],
   "source": [
    "tree = []\n",
    "with open(\"data/en-django/all.code\",\"r\") as f:\n",
    "    for line in f:\n",
    "        line = line.strip()\n",
    "        if \"try\" not in line and \"except\" not in line and \"else\" not in line and \"elif\" not in line and \"finally\" not in line and \"@\" not in line:\n",
    "            if line[-1] == \":\":\n",
    "                line += \" pass\"\n",
    "            ast = compiler.parse(line)\n",
    "            tree.append(str(ast))\n",
    "        else:\n",
    "            tree.append(line)\n",
    "        #tree.append(str(ast))"
   ]
  },
  {
   "cell_type": "code",
   "execution_count": 46,
   "metadata": {
    "collapsed": false
   },
   "outputs": [
    {
     "data": {
      "text/plain": [
       "Module(None, Stmt([Discard(CallFunc(Getattr(Getattr(Name('signals'), 'request_finished'), 'connect'), [Getattr(Name('cache'), 'close')], None, None))]))"
      ]
     },
     "execution_count": 46,
     "metadata": {},
     "output_type": "execute_result"
    }
   ],
   "source": [
    "compiler.parse(\"signals . request_finished . connect ( cache . close )\")"
   ]
  },
  {
   "cell_type": "code",
   "execution_count": 10,
   "metadata": {
    "collapsed": false
   },
   "outputs": [
    {
     "data": {
      "text/plain": [
       "[\"Module(None, Stmt([From('threading', [('local', None)], 0)]))\",\n",
       " \"Module(None, Stmt([Import([('warnings', None)])]))\",\n",
       " \"Module(None, Stmt([From('django.conf', [('settings', None)], 0)]))\",\n",
       " \"Module(None, Stmt([From('django.core', [('signals', None)], 0)]))\",\n",
       " \"Module(None, Stmt([From('django.core.cache.backends.base', [('InvalidCacheBackendError', None), ('CacheKeyWarning', None), ('BaseCache', None)], 0)]))\",\n",
       " 'from django . core . exceptions import ImproperlyConfigured',\n",
       " \"Module(None, Stmt([From('django.utils.deprecation', [('RemovedInDjango19Warning', None)], 0)]))\",\n",
       " \"Module(None, Stmt([From('django.utils.module_loading', [('import_string', None)], 0)]))\",\n",
       " \"Module(None, Stmt([Assign([AssName('__all__', 'OP_ASSIGN')], List([Const('get_cache'), Const('cache'), Const('DEFAULT_CACHE_ALIAS'), Const('InvalidCacheBackendError'), Const('CacheKeyWarning'), Const('BaseCache')]))]))\",\n",
       " \"Module(None, Stmt([Assign([AssName('DEFAULT_CACHE_ALIAS', 'OP_ASSIGN')], Const('default'))]))\"]"
      ]
     },
     "execution_count": 10,
     "metadata": {},
     "output_type": "execute_result"
    }
   ],
   "source": [
    "tree[:10]"
   ]
  },
  {
   "cell_type": "code",
   "execution_count": 20,
   "metadata": {
    "collapsed": false
   },
   "outputs": [
    {
     "name": "stdout",
     "output_type": "stream",
     "text": [
      "\n"
     ]
    }
   ],
   "source": [
    "\n",
    "try:\n",
    "    print\n",
    "except:\n",
    "    pass"
   ]
  },
  {
   "cell_type": "code",
   "execution_count": null,
   "metadata": {
    "collapsed": true
   },
   "outputs": [],
   "source": []
  }
 ],
 "metadata": {
  "kernelspec": {
   "display_name": "Python 2",
   "language": "python",
   "name": "python2"
  },
  "language_info": {
   "codemirror_mode": {
    "name": "ipython",
    "version": 2
   },
   "file_extension": ".py",
   "mimetype": "text/x-python",
   "name": "python",
   "nbconvert_exporter": "python",
   "pygments_lexer": "ipython2",
   "version": "2.7.11"
  }
 },
 "nbformat": 4,
 "nbformat_minor": 0
}
